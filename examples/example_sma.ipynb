{
 "cells": [
  {
   "cell_type": "code",
   "execution_count": null,
   "metadata": {},
   "outputs": [],
   "source": [
    "from quantbt.data.loader import YFinanceLoader\n",
    "from quantbt.data.feed import DataFeed\n",
    "from quantbt.core.broker import Broker\n",
    "from quantbt.core.engine import BacktestEngine\n",
    "from quantbt.core.metrics import compute_metrics\n",
    "from quantbt.reports.plotting import plot_equity_curve, plot_drawdown\n",
    "from quantbt.strategies.sma_crossover import SMACrossover\n",
    "\n",
    "\n",
    "df = YFinanceLoader(ticker=\"SPY\", interval=\"1d\", start=\"2015-01-01\").load()\n",
    "feed = DataFeed(df)\n",
    "broker = Broker(slippage_bps=1, commission_bps=2)\n",
    "strat = SMACrossover(fast=20, slow=50, size_pct=0.1)\n",
    "engine = BacktestEngine(feed=feed, broker=broker, strategy=strat, initial_cash=100000)\n",
    "hist = engine.run()\n",
    "equity = hist[\"equity\"]\n",
    "metrics = compute_metrics(equity, freq=\"D\")\n",
    "metrics"
   ]
  }
 ],
 "metadata": {
  "language_info": {
   "name": "python"
  }
 },
 "nbformat": 4,
 "nbformat_minor": 2
}
